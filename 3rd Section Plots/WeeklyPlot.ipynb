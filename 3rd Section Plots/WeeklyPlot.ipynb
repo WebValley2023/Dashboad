{
 "cells": [
  {
   "cell_type": "code",
   "execution_count": 1,
   "metadata": {},
   "outputs": [],
   "source": [
    "from dash import dcc, html, Input, Output, Dash\n",
    "import pandas as pd\n",
    "import numpy as np\n",
    "from matplotlib import pyplot as plt\n",
    "import seaborn as sns"
   ]
  },
  {
   "cell_type": "code",
   "execution_count": 2,
   "metadata": {},
   "outputs": [],
   "source": [
    "df = pd.read_csv('../data/merged_APPA_data.csv', encoding='windows-1252')"
   ]
  },
  {
   "cell_type": "code",
   "execution_count": 16,
   "metadata": {},
   "outputs": [],
   "source": [
    "df['Month']=df.Data.dt.month\n"
   ]
  },
  {
   "cell_type": "code",
   "execution_count": 5,
   "metadata": {},
   "outputs": [],
   "source": [
    "#Plot Weekly  3rd Section\n",
    "from matplotlib.pyplot import xticks\n",
    "\n",
    "df = df[df.Valore != \"n.d.\"]\n",
    "df[\"Valore\"] = pd.to_numeric(df.Valore)\n",
    "df[\"Data\"] = pd.to_datetime(df.Data)\n",
    "df_week_avg = df[(df.Stazione == \"Rovereto\") & (df.Inquinante == \"Ozono\")]\n",
    "#print(df_week_avg)"
   ]
  },
  {
   "cell_type": "code",
   "execution_count": 18,
   "metadata": {},
   "outputs": [
    {
     "name": "stderr",
     "output_type": "stream",
     "text": [
      "/tmp/ipykernel_57614/2623227132.py:3: SettingWithCopyWarning: \n",
      "A value is trying to be set on a copy of a slice from a DataFrame.\n",
      "Try using .loc[row_indexer,col_indexer] = value instead\n",
      "\n",
      "See the caveats in the documentation: https://pandas.pydata.org/pandas-docs/stable/user_guide/indexing.html#returning-a-view-versus-a-copy\n",
      "  df_week_avg[\"Inverno\"] = False\n"
     ]
    },
    {
     "data": {
      "text/html": [
       "<div>\n",
       "<style scoped>\n",
       "    .dataframe tbody tr th:only-of-type {\n",
       "        vertical-align: middle;\n",
       "    }\n",
       "\n",
       "    .dataframe tbody tr th {\n",
       "        vertical-align: top;\n",
       "    }\n",
       "\n",
       "    .dataframe thead th {\n",
       "        text-align: right;\n",
       "    }\n",
       "</style>\n",
       "<table border=\"1\" class=\"dataframe\">\n",
       "  <thead>\n",
       "    <tr style=\"text-align: right;\">\n",
       "      <th></th>\n",
       "      <th>index</th>\n",
       "      <th>Stazione</th>\n",
       "      <th>Inquinante</th>\n",
       "      <th>Data</th>\n",
       "      <th>Valore</th>\n",
       "      <th>UnitÃ  di misura</th>\n",
       "      <th>Month</th>\n",
       "      <th>Inverno</th>\n",
       "    </tr>\n",
       "  </thead>\n",
       "  <tbody>\n",
       "    <tr>\n",
       "      <th>0</th>\n",
       "      <td>1725415</td>\n",
       "      <td>Rovereto</td>\n",
       "      <td>Ozono</td>\n",
       "      <td>2012-01-01 01:00:00</td>\n",
       "      <td>7.0</td>\n",
       "      <td>Âµg/mc</td>\n",
       "      <td>1</td>\n",
       "      <td>True</td>\n",
       "    </tr>\n",
       "    <tr>\n",
       "      <th>1</th>\n",
       "      <td>1725416</td>\n",
       "      <td>Rovereto</td>\n",
       "      <td>Ozono</td>\n",
       "      <td>2012-01-01 02:00:00</td>\n",
       "      <td>5.0</td>\n",
       "      <td>Âµg/mc</td>\n",
       "      <td>1</td>\n",
       "      <td>True</td>\n",
       "    </tr>\n",
       "    <tr>\n",
       "      <th>2</th>\n",
       "      <td>1725417</td>\n",
       "      <td>Rovereto</td>\n",
       "      <td>Ozono</td>\n",
       "      <td>2012-01-01 03:00:00</td>\n",
       "      <td>4.0</td>\n",
       "      <td>Âµg/mc</td>\n",
       "      <td>1</td>\n",
       "      <td>True</td>\n",
       "    </tr>\n",
       "    <tr>\n",
       "      <th>3</th>\n",
       "      <td>1725418</td>\n",
       "      <td>Rovereto</td>\n",
       "      <td>Ozono</td>\n",
       "      <td>2012-01-01 04:00:00</td>\n",
       "      <td>4.0</td>\n",
       "      <td>Âµg/mc</td>\n",
       "      <td>1</td>\n",
       "      <td>True</td>\n",
       "    </tr>\n",
       "    <tr>\n",
       "      <th>4</th>\n",
       "      <td>1725419</td>\n",
       "      <td>Rovereto</td>\n",
       "      <td>Ozono</td>\n",
       "      <td>2012-01-01 05:00:00</td>\n",
       "      <td>7.0</td>\n",
       "      <td>Âµg/mc</td>\n",
       "      <td>1</td>\n",
       "      <td>True</td>\n",
       "    </tr>\n",
       "    <tr>\n",
       "      <th>...</th>\n",
       "      <td>...</td>\n",
       "      <td>...</td>\n",
       "      <td>...</td>\n",
       "      <td>...</td>\n",
       "      <td>...</td>\n",
       "      <td>...</td>\n",
       "      <td>...</td>\n",
       "      <td>...</td>\n",
       "    </tr>\n",
       "    <tr>\n",
       "      <th>92918</th>\n",
       "      <td>1818333</td>\n",
       "      <td>Rovereto</td>\n",
       "      <td>Ozono</td>\n",
       "      <td>2022-07-07 20:00:00</td>\n",
       "      <td>136.0</td>\n",
       "      <td>Âµg/mc</td>\n",
       "      <td>7</td>\n",
       "      <td>False</td>\n",
       "    </tr>\n",
       "    <tr>\n",
       "      <th>92919</th>\n",
       "      <td>1818334</td>\n",
       "      <td>Rovereto</td>\n",
       "      <td>Ozono</td>\n",
       "      <td>2022-07-07 21:00:00</td>\n",
       "      <td>138.0</td>\n",
       "      <td>Âµg/mc</td>\n",
       "      <td>7</td>\n",
       "      <td>False</td>\n",
       "    </tr>\n",
       "    <tr>\n",
       "      <th>92920</th>\n",
       "      <td>1818335</td>\n",
       "      <td>Rovereto</td>\n",
       "      <td>Ozono</td>\n",
       "      <td>2022-07-07 22:00:00</td>\n",
       "      <td>129.0</td>\n",
       "      <td>Âµg/mc</td>\n",
       "      <td>7</td>\n",
       "      <td>False</td>\n",
       "    </tr>\n",
       "    <tr>\n",
       "      <th>92921</th>\n",
       "      <td>1818336</td>\n",
       "      <td>Rovereto</td>\n",
       "      <td>Ozono</td>\n",
       "      <td>2022-07-07 23:00:00</td>\n",
       "      <td>117.0</td>\n",
       "      <td>Âµg/mc</td>\n",
       "      <td>7</td>\n",
       "      <td>False</td>\n",
       "    </tr>\n",
       "    <tr>\n",
       "      <th>92922</th>\n",
       "      <td>1818337</td>\n",
       "      <td>Rovereto</td>\n",
       "      <td>Ozono</td>\n",
       "      <td>2022-07-08 00:00:00</td>\n",
       "      <td>114.0</td>\n",
       "      <td>Âµg/mc</td>\n",
       "      <td>7</td>\n",
       "      <td>False</td>\n",
       "    </tr>\n",
       "  </tbody>\n",
       "</table>\n",
       "<p>92923 rows × 8 columns</p>\n",
       "</div>"
      ],
      "text/plain": [
       "         index  Stazione Inquinante                Data  Valore  \\\n",
       "0      1725415  Rovereto      Ozono 2012-01-01 01:00:00     7.0   \n",
       "1      1725416  Rovereto      Ozono 2012-01-01 02:00:00     5.0   \n",
       "2      1725417  Rovereto      Ozono 2012-01-01 03:00:00     4.0   \n",
       "3      1725418  Rovereto      Ozono 2012-01-01 04:00:00     4.0   \n",
       "4      1725419  Rovereto      Ozono 2012-01-01 05:00:00     7.0   \n",
       "...        ...       ...        ...                 ...     ...   \n",
       "92918  1818333  Rovereto      Ozono 2022-07-07 20:00:00   136.0   \n",
       "92919  1818334  Rovereto      Ozono 2022-07-07 21:00:00   138.0   \n",
       "92920  1818335  Rovereto      Ozono 2022-07-07 22:00:00   129.0   \n",
       "92921  1818336  Rovereto      Ozono 2022-07-07 23:00:00   117.0   \n",
       "92922  1818337  Rovereto      Ozono 2022-07-08 00:00:00   114.0   \n",
       "\n",
       "      UnitÃ  di misura  Month  Inverno  \n",
       "0               Âµg/mc      1     True  \n",
       "1               Âµg/mc      1     True  \n",
       "2               Âµg/mc      1     True  \n",
       "3               Âµg/mc      1     True  \n",
       "4               Âµg/mc      1     True  \n",
       "...                ...    ...      ...  \n",
       "92918           Âµg/mc      7    False  \n",
       "92919           Âµg/mc      7    False  \n",
       "92920           Âµg/mc      7    False  \n",
       "92921           Âµg/mc      7    False  \n",
       "92922           Âµg/mc      7    False  \n",
       "\n",
       "[92923 rows x 8 columns]"
      ]
     },
     "execution_count": 18,
     "metadata": {},
     "output_type": "execute_result"
    }
   ],
   "source": [
    "# da qui mandare \n",
    "\n",
    "df_week_avg[\"Inverno\"] = False\n",
    "df_week_avg.loc[(df_week_avg.Month>=10) | (df_week_avg.Month <=3), \"Inverno\"] = True\n",
    "df_week_avg.reset_index()\n",
    "#df_week_avg"
   ]
  },
  {
   "cell_type": "code",
   "execution_count": 19,
   "metadata": {},
   "outputs": [
    {
     "name": "stdout",
     "output_type": "stream",
     "text": [
      "    Inverno  Data     Valore     Month\n",
      "0     False     0  71.432692  6.432993\n",
      "1     False     1  71.644562  6.439577\n",
      "2     False     2  72.986034  6.440156\n",
      "3     False     3  75.034254  6.422967\n",
      "4     False     4  76.111261  6.446549\n",
      "5     False     5  77.015167  6.443160\n",
      "6     False     6  77.149775  6.437481\n",
      "7      True     0  25.666515  6.377149\n",
      "8      True     1  23.754198  6.382242\n",
      "9      True     2  23.400696  6.299652\n",
      "10     True     3  23.364633  6.314603\n",
      "11     True     4  22.719691  6.310580\n",
      "12     True     5  25.004356  6.331531\n",
      "13     True     6  29.627813  6.313981\n"
     ]
    }
   ],
   "source": [
    "#df_week_avg = df_week_avg.groupby(pd.PeriodIndex(df_week_avg['Data'], freq=\"W\"))['Valore'].mean()\n",
    "df_day_week_avg = df_week_avg.groupby(['Inverno',df_week_avg.Data.dt.day_of_week]).mean()\n",
    "df_day_week_avg = df_day_week_avg.reset_index()\n",
    "print(df_day_week_avg)\n"
   ]
  },
  {
   "cell_type": "code",
   "execution_count": 15,
   "metadata": {},
   "outputs": [
    {
     "data": {
      "text/plain": [
       "<matplotlib.legend.Legend at 0x7f12a8085e20>"
      ]
     },
     "execution_count": 15,
     "metadata": {},
     "output_type": "execute_result"
    },
    {
     "data": {
      "image/png": "[encoded data removed]",
      "text/plain": [
       "<Figure size 1080x576 with 1 Axes>"
      ]
     },
     "metadata": {
      "needs_background": "light"
     },
     "output_type": "display_data"
    }
   ],
   "source": [
    "\n",
    "plt.gcf().set_size_inches(15, 8)\n",
    "sns.barplot(y=\"Valore\", x=\"Data\", hue= \"Inverno\",palette='hls', data=df_day_week_avg)\n",
    "\n",
    "plt.xlabel(\"\")\n",
    "plt.ylabel(\"Value (Âµg/mc)\")\n",
    "plt.xticks([0,1,2,3,4,5,6],['Mon','Tue','Wed','Thu','Fri','Sat','Sun'])\n",
    "plt.legend([\"Summer\", \"Winter\"])"
   ]
  }
 ],
 "metadata": {
  "kernelspec": {
   "display_name": "Python 3.9.13 64-bit",
   "language": "python",
   "name": "python3"
  },
  "language_info": {
   "codemirror_mode": {
    "name": "ipython",
    "version": 3
   },
   "file_extension": ".py",
   "mimetype": "text/x-python",
   "name": "python",
   "nbconvert_exporter": "python",
   "pygments_lexer": "ipython3",
   "version": "3.9.13"
  },
  "orig_nbformat": 4,
  "vscode": {
   "interpreter": {
    "hash": "36cf16204b8548560b1c020c4e8fb5b57f0e4c58016f52f2d4be01e192833930"
   }
  }
 },
 "nbformat": 4,
 "nbformat_minor": 2
}
